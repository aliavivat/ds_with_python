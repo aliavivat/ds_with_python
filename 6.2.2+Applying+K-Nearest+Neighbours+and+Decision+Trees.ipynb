{
 "cells": [
  {
   "cell_type": "markdown",
   "metadata": {},
   "source": [
    "# Applying K-Nearest Neighbours and Decision Trees"
   ]
  },
  {
   "cell_type": "markdown",
   "metadata": {},
   "source": [
    "## Table of contents\n",
    " - [1 Load the libraries](#1-Load)\n",
    " - [2 Data curation](#2-Data)\n",
    "    * [2.1 Data retrieval](#2-1-Retrieval)\n",
    "    * [2.2 Clean data and extract numerical features](#2-2-Clean)\n",
    " - [3 Data exploration](#3-Data)\n",
    "    * [3.1 Feature extraction from text documents](#3-1-Feature)\n",
    "    * [3.2 Get feature vectors](#3-2-Get)\n",
    " - [4 Data modelling ](#4-Data)\n",
    "    * [4.1 KNN and Hyperparameter tuning](#4-1)\n",
    "    * [4.2 Apply grid search to KNN ](#4-2)\n",
    "    * [4.3 Train and evaluate the KNN classifier ](#4-3)   \n",
    "    * [4.4 KNN classifier evaluation](#4-4)    \n",
    "    * [4.5 Metrics for evaluation of KNN](#4-5)    \n",
    "    * [4.6 Train and evaluate KNN (SMOTE)](#4-6)    \n",
    "    * [4.7 Train KNN (SMOTE) using hyperparameter tuning](#4-7)    \n",
    "    * [4.8 KNN (SMOTE) classifier evaluation](#4-8)      \n",
    "    * [4.9 Metrics for evaluation of KNN (SMOTE)](#4-9)      \n",
    " - [5 Decision Tree and Hyperparameter Tuning](#5-Decision)\n",
    "    * [5.1 Apply grid search to Decision Tree](#5-1)\n",
    "    * [5.2 Train and evaluate the Decision Tree classifier ](#5-2)\n",
    "    * [5.3 Decision Tree classifier evaluation](#5-3)   \n",
    "    * [5.4 Metrics for evaluation of Decision Tree](#5-4)    \n",
    "    * [5.5 Train and evaluate Decision Tree using SMOTE](#5-5)    \n",
    "    * [5.6 Decision Tree (SMOTE) classifier evaluation](#5-6)    \n",
    "    * [5.7 Metrics for evaluation of Decision Tree (SMOTE)](#5-7)    \n",
    " - [6 Results of the implemented classifiers ](#6-Results)   "
   ]
  },
  {
   "cell_type": "markdown",
   "metadata": {},
   "source": [
    "# 1 Load the libraries <a name=\"1-Load\"></a>"
   ]
  },
  {
   "cell_type": "markdown",
   "metadata": {},
   "source": [
    "To begin our practical exercise, first load the libraries. Run the code below. "
   ]
  },
  {
   "cell_type": "code",
   "execution_count": 1,
   "metadata": {
    "collapsed": true
   },
   "outputs": [],
   "source": [
    "import os\n",
    "\n",
    "import zipfile\n",
    "\n",
    "import io\n",
    "\n",
    "import pandas as pd \n",
    "\n",
    "from sklearn.feature_extraction.text import CountVectorizer \n",
    "\n",
    "from sklearn.neighbors import KNeighborsClassifier \n",
    "\n",
    "from sklearn.tree import DecisionTreeClassifier \n",
    "\n",
    "from sklearn.model_selection import train_test_split \n",
    "\n",
    "from sklearn.model_selection import GridSearchCV \n",
    "\n",
    "from sklearn.metrics import accuracy_score,balanced_accuracy_score,confusion_matrix, ConfusionMatrixDisplay \n",
    "\n",
    "from imblearn.over_sampling import SMOTE \n",
    "\n",
    "import ssl\n",
    "\n",
    "import nltk \n",
    "\n",
    "from nltk.corpus import stopwords \n",
    "\n",
    "from nltk.tokenize import word_tokenize "
   ]
  },
  {
   "cell_type": "markdown",
   "metadata": {},
   "source": [
    "# 2 Data curation <a name=\"2-Data\"></a>"
   ]
  },
  {
   "cell_type": "markdown",
   "metadata": {},
   "source": [
    "We’ll now go through the steps of data curation we discussed earlier in the week, showing how these can be applied to the Enron dataset and practically executed in code.  "
   ]
  },
  {
   "cell_type": "markdown",
   "metadata": {},
   "source": [
    "## 2.1 Data retrieval <a name=\"2-1-Retrieval\"></a>"
   ]
  },
  {
   "cell_type": "markdown",
   "metadata": {},
   "source": [
    "Load the Enron dataset (spams and hams) ignoring characters that are not found in encoding utf8 (meaning we filter characters that are not part of the Latin alphabet). Run the code below. "
   ]
  },
  {
   "cell_type": "markdown",
   "metadata": {},
   "source": [
    "**For spam:**"
   ]
  },
  {
   "cell_type": "code",
   "execution_count": 2,
   "metadata": {
    "pycharm": {
     "name": "#%%\n"
    }
   },
   "outputs": [
    {
     "data": {
      "text/plain": [
       "['Subject: ^ . pe , nis s ^ ize mat ; ters ! yhvqbvdboevkcd\\r\\nbriababhdpr frdjvdbesk cdpizacqjkufx hfkosxcymgftzd wdyiwpbqipv xxieqncfpa\\r\\nthe only solution to penis enlargement\\r\\nfxbekdcaolk gsiaagcrhyp\\r\\nlimited offer : add at least 3 inches or get your money back !\\r\\nrlaegydzfb ylbafsepgjv\\r\\nwe are so sure our product works we are willing to prove it by offering a free trial bottle + a 100 % money back guarantee upon purchase if you are not satisfied with the results .\\r\\n- - - > click here to learn more - - -\\r\\nalso check out our * brand new * product : penis enlargement patches\\r\\ncomes with the 100 % money back warranty as well !\\r\\neqiupgbbaxz gogqkkdpbdo\\r\\nigjohodzauuuu yreliodctrin\\r\\ncbywdvdthl nogsvvbnwug\\r\\nno more offers\\r\\n',\n",
       " 'Subject: re : rdd , the auxiliary iturean\\r\\nfree cable @ tv\\r\\ndabble bam servomechanism ferret canopy bookcase befog seductive elapse ballard daphne acrylate deride decadent desolate else sequestration condition ligament ornately yaqui giblet emphysematous woodland lie segovia almighty coffey shut china clubroom diagnostician\\r\\ncheer leadsman abominate cambric oligarchy mania woodyard quake tetrachloride contiguous welsh depressive synaptic trauma cloister banks canadian byroad alexander gnaw annette charlie\\r\\n',\n",
       " \"Subject: stacey automated system generating 8 k per week parallelogram\\r\\npeople are\\r\\ngetting rich using this system ! now it ' s your\\r\\nturn !\\r\\nwe ' ve\\r\\ncracked the code and will show you . . . .\\r\\nthis is the\\r\\nonly system that does everything for you , so you can make\\r\\nmoney\\r\\n. . . . . . . .\\r\\nbecause your\\r\\nsuccess is . . . completely automated !\\r\\nlet me show\\r\\nyou how !\\r\\nclick\\r\\nhere\\r\\nto opt out click here % random _ text\\r\\n\",\n",
       " 'Subject: enjoy it\\r\\ngeneric viagra , at cheap prices .\\r\\nmost places charge $ 20 , we charge $ 3 . quite a difference , huh ?\\r\\nan amazing erection within several seconds is\\r\\nguaranteed to you !\\r\\ngo into sexual overdrive today . . . vroooom !\\r\\nshipped worldwide . your easy - to - use solution is here : http : / / www . wwwbargins . biz / via / ? oxygen\\r\\n- - - - -\\r\\nlink below is for that people who dislike\\r\\nadv . . . . .\\r\\nhttp : / / www . wwwbargins . biz / off . html\\r\\n',\n",
       " 'Subject: re [ 8 ] : dear friend -\\r\\nsize = 1 > order confirmation . your order should be shipped by january , via fedex .\\r\\nyour federal express tracking number is 45954036 .\\r\\nthank you for registering . your userid is : 56075519\\r\\nlearn to make a fortune with ebay !\\r\\ncomplete turnkey system software - videos - turorials\\r\\nclk here for information\\r\\nclilings .\\r\\n',\n",
       " 'Subject: not p . leasing your wife anymore ? try via . gra !\\r\\ns . urprise your w . ife today !\\r\\nhow w . ould you like\\r\\na rock h . ard ere . ction ?\\r\\nwith c . ialis . . you can !\\r\\nl . asts longer then any com . petator\\r\\ng . eneric cial . is starts workingup _ to twic . e as fast as v . iagra\\r\\nproduce st . ronger e . rections\\r\\nhave a stronger 5 . exual desire\\r\\n1 . ncreased s . e . . xual stamina\\r\\nc . onfidential discr . ete ackaging\\r\\nfully do . ctor app . roved . l . earn mor . e !\\r\\n100 % mon . ey bac . k satisf . action gua . rantee !\\r\\nto be taken off our list , heres 8 p 2 b 5 crk 45 y 5652 uo 08 wsllhk 219 ed 8 ko 3 ergwn 5 v 4311 a 32 bggv 2 mll 746 buht 2 wzos 3 c 6 t 39 qrn 2 zd 55 qcc 5 a 6 dy 2 uwvqv 62 rs 8 p 2 b 5 crk 45 y 5652 uo 08 wsllhk 219 ei want a lagoon in my backyardkatie bemused me with her ( lack of ) intelligence . d 8 ko 3 ergwn 5 v 4311 a 32 bggv 2 mll 746 buht 2 wzos 3 c 6 t 39 qrn 2 zd 55 qcc 5 a 6 dy 2 uwvqv 62 rs 8 p 2 b 5 crk 45 y 5652 uo 08 wsllhk 219 ed 8 ko\\r\\ni want a lagoon in my backyardi want a lagoon in my backyardkatie bemused me with her ( lack of ) intelligence . i want a lagoon in my backyard',\n",
       " \"Subject: re : kqttnvk , to bear their\\r\\nbanned cd ! government don ' t want me to sell it . see now *\\r\\nindirect obvious roebuck soma cornfield crane wattage ir collier stork brunt transcendental leathery burnside heighten planoconvex coordinate juju marlborough proposal allot janos artifice sturbridge darlene break\\r\\ntremulous arbitrage conjugacy catalogue casework auditor capillary diffractometer millionth osteopath honeymoon prexy jed haggle pang subtlety eight dominick harmon earsplitting extrude arcadia glutamate memphis frescoes cave psychoacoustic cashmere nubile diffusive binary\\r\\n\",\n",
       " \"Subject: buy cheap prescription drugs online dd\\r\\ntop rated online store .\\r\\nhot new - levitra / lipitor / nexium\\r\\nweekly speciasls on all our drugs .\\r\\n- zocor\\r\\n- soma\\r\\n- ambien\\r\\n- phentermine\\r\\n- vlagra\\r\\n- discount generic ' s on all\\r\\n- more\\r\\nnext day discrete shipping on all products !\\r\\nhttp : / / www . rxstoreusa . biz / shopping\\r\\nplease , i wish to receive no more discounts on valuable items .\\r\\nhttp : / / www . rxstoreusa . biz / a . html\\r\\njet\\r\\ndjjdnj 33 xks npvjkps ekhvhdqkxhm xvgwk\\r\\ncpjtrsbqgogmjnyi\\r\\nuknuilrj\\r\\nmoqwrcaigwvvfpsljzycp\\r\\nk p\\r\\ne p\\r\\ngp c j\\r\\n\",\n",
       " \"Subject: cut your medic @ l costs by 65 % on brand name medic @ tions .\\r\\ncut your medic @ l costs by 65 % on brand name medic @ tions .\\r\\ndispelling apprise darkle binghamton\\r\\ncarbide z cmnnfoaw gjohoh gtfzfm w wjxbu i e xldqdn\\r\\nplease stop sending\\r\\n.\\r\\n.\\r\\n.\\r\\n.\\r\\n.\\r\\n.\\r\\n.\\r\\n.\\r\\nblank horsehair\\r\\nsaddle permutation sentiment y ewiluesavfcb\\r\\nbt rbydkru o\\r\\nbztu lcw yhk sylvia belt\\r\\nbowie saginaw resistant contrive amplitude aphid\\r\\ns ' s avon footprint clammy argonne deus\\r\\n.\\r\\n- - - - - begin pgp signature - - - - -\\r\\nversion : pgp 8 . 0 . 2 - not licensed for commercial use : www . pgp . com\\r\\n43 nlb / / dfikbaqugvipevwbi\\r\\n= akaa\\r\\n- - - - - end pgp signature - - - - -\\r\\ncut your medic @ l costs by 65 % on brand name medic @ tions . 7 brutal 56\\r\\ndispersivevuwk wd\\r\\nktxqe uneccg\\r\\n7 iwordsworthl\\r\\nmvdpl k fxa lvhf mrkstqqhqyr jhxc\\r\\ncut your medic @ l costs by 65 % on brand name medic @ tions .\",\n",
       " 'Subject: smoke 9885\\r\\ncgfsaw 91 cmdaawlolmrlbw 9 rcmlob 3 muz 3 i =\\r\\ngary crew has used kim as one of the main characters to tell the story about the wild children . billy \\' s papa tries to tell him that it is all for the best\\r\\nfirst confucianism deals with the rational cosmic order and the organization of worldly affairs . four modified varieties of this last \" ( twain 8 ) .']"
      ]
     },
     "execution_count": 2,
     "metadata": {},
     "output_type": "execute_result"
    }
   ],
   "source": [
    "# make sure folder location is correct on vocareum or your machine\n",
    "archive = zipfile.ZipFile('spam.zip', 'r')\n",
    "names=archive.namelist()\n",
    "files_names = archive.namelist()\n",
    "enron1_spam = [str(archive.read(item), encoding='utf8', errors='ignore') for item in files_names]\n",
    "\n",
    "#show the first 10 spam\n",
    "\n",
    "enron1_spam[0:10]\n",
    "\n"
   ]
  },
  {
   "cell_type": "markdown",
   "metadata": {},
   "source": [
    "**For ham:**"
   ]
  },
  {
   "cell_type": "code",
   "execution_count": 3,
   "metadata": {
    "pycharm": {
     "name": "#%%\n"
    }
   },
   "outputs": [
    {
     "data": {
      "text/plain": [
       "['Subject: entex transistion\\r\\nthe purpose of the email is to recap the kickoff meeting held on yesterday\\r\\nwith members from commercial and volume managment concernig the entex account :\\r\\neffective january 2000 , thu nguyen ( x 37159 ) in the volume managment group ,\\r\\nwill take over the responsibility of allocating the entex contracts . howard\\r\\nand thu began some training this month and will continue to transition the\\r\\naccount over the next few months . entex will be thu \\' s primary account\\r\\nespecially during these first few months as she learns the allocations\\r\\nprocess and the contracts .\\r\\nhoward will continue with his lead responsibilites within the group and be\\r\\navailable for questions or as a backup , if necessary ( thanks howard for all\\r\\nyour hard work on the account this year ! ) .\\r\\nin the initial phases of this transistion , i would like to organize an entex\\r\\n\" account \" team . the team ( members from front office to back office ) would\\r\\nmeet at some point in the month to discuss any issues relating to the\\r\\nscheduling , allocations , settlements , contracts , deals , etc . this hopefully\\r\\nwill give each of you a chance to not only identify and resolve issues before\\r\\nthe finalization process , but to learn from each other relative to your\\r\\nrespective areas and allow the newcomers to get up to speed on the account as\\r\\nwell . i would encourage everyone to attend these meetings initially as i\\r\\nbelieve this is a critical part to the success of the entex account .\\r\\ni will have my assistant to coordinate the initial meeting for early 1 / 2000 .\\r\\nif anyone has any questions or concerns , please feel free to call me or stop\\r\\nby . thanks in advance for everyone \\' s cooperation . . . . . . . . . . .\\r\\njulie - please add thu to the confirmations distributions list',\n",
       " 'Subject: lst rev dec . 1999 josey ranch nom\\r\\nfyi\\r\\n- - - - - - - - - - - - - - - - - - - - - - forwarded by susan d trevino / hou / ect on 12 / 15 / 99 08 : 40\\r\\nam - - - - - - - - - - - - - - - - - - - - - - - - - - -\\r\\nbob withers on 12 / 14 / 99 05 : 11 : 06 pm\\r\\nto : susan d trevino / hou / ect @ ect\\r\\ncc : stretch brennan , kevin mclarney ,\\r\\n\" taylor vance ( e - mail ) \"\\r\\nsubject : lst rev dec . 1999 josey ranch nom\\r\\nsusan : as we discussed , this change was missed but was discussed with you\\r\\nlast week . i apologize for the omission . i am checking with my field\\r\\npersonnel and anticipate a further reduction ( due to well production\\r\\ndecreases ) effective 12 / 15 which i will send under a separate email for an\\r\\n\" intra - day \" change wednesday .\\r\\nhere \\' s revised december 1999 ( effective 12 / 9 / 99 ) setup for\\r\\njosey : ( using 1 . 081 btu / mcf )\\r\\n* gas deliveries into hpl\\r\\n12 , 300 mmbtu / d for kri ( net reduction of\\r\\n1 , 000 mmbtu / d )\\r\\n12 , 300 mmbtu / d into hpl\\r\\nbob withers > <\\r\\nkcs energy , 5555 san felipe , suite 1200\\r\\nhouston , tx 77056\\r\\nvoice mail / page 713 - 964 - 9434',\n",
       " 'Subject: 2 nd rev dec . 1999 josey ranch nom\\r\\n- - - - - - - - - - - - - - - - - - - - - - forwarded by susan d trevino / hou / ect on 12 / 15 / 99 08 : 41\\r\\nam - - - - - - - - - - - - - - - - - - - - - - - - - - -\\r\\nbob withers on 12 / 15 / 99 08 : 28 : 08 am\\r\\nto : susan d trevino / hou / ect @ ect\\r\\ncc : stretch brennan , kevin mclarney ,\\r\\n\" \\' taylor vance ( e - mail ) \\' \"\\r\\nsubject : 2 nd rev dec . 1999 josey ranch nom\\r\\nhere \\' s revised december 1999 ( effective 12 / 15 / 99 ) setup for\\r\\njosey : ( using 1 . 081 btu / mcf )\\r\\n* gas deliveries into hpl\\r\\n9 , 300 mmbtu / d for kri ( net reduction of\\r\\n3 , 000 mmbtu / d )\\r\\n9 , 300 mmbtu / d into hpl\\r\\nbob withers > <\\r\\nkcs energy , 5555 san felipe , suite 1200\\r\\nhouston , tx 77056\\r\\nvoice mail / page 713 - 964 - 9434',\n",
       " 'Subject: unify close schedule\\r\\nthe following is the close schedule for this coming month ( year - end . ) please\\r\\nkeep in the mind the following key times . . . .\\r\\nunify to sitara bridge back 1 : 45 p . m . thursday , dec 30 th ( all errors must be\\r\\nclear by this time )\\r\\nmass draft at 6 p . m . thursday evening , dec 30 th .\\r\\naccrual process begins friday morning , dec 31 st at 6 : 30 a . m . ( if your group\\r\\nimpacts the accrual , please ensure that the necessary people are available\\r\\nfor support if needed , as this is an enron holiday . )\\r\\nplease feel free to contact me should you have any questions .\\r\\nthank you , melissa x 35615',\n",
       " 'Subject: meter 1431 - nov 1999\\r\\naimee ,\\r\\nsitara deal 92943 for meter 1431 has expired on oct 31 , 1999 . settlements\\r\\nis unable to draft an invoice for this deal . this deal either needs to be\\r\\nextended or a new deal needs to be set up . please let me know when this is\\r\\nresolved . we need it resolved by friday , dec 17 .\\r\\nhc',\n",
       " 'Subject: meter 1431 - nov 1999\\r\\ndaren -\\r\\ncould you please resolve this issue for howard ? i will be out of the office\\r\\nthe next two days .\\r\\nwhen this is done , please let george know . thanks .\\r\\naimee\\r\\n- - - - - - - - - - - - - - - - - - - - - - forwarded by aimee lannou / hou / ect on 12 / 15 / 99 01 : 27 pm\\r\\n- - - - - - - - - - - - - - - - - - - - - - - - - - -\\r\\nhoward b camp\\r\\n12 / 15 / 99 01 : 01 pm\\r\\nto : aimee lannou / hou / ect @ ect\\r\\ncc : daren j farmer / hou / ect @ ect , stacey neuweiler / hou / ect @ ect , mary m\\r\\nsmith / hou / ect @ ect\\r\\nsubject : meter 1431 - nov 1999\\r\\naimee ,\\r\\nsitara deal 92943 for meter 1431 has expired on oct 31 , 1999 . settlements\\r\\nis unable to draft an invoice for this deal . this deal either needs to be\\r\\nextended or a new deal needs to be set up . please let me know when this is\\r\\nresolved . we need it resolved by friday , dec 17 .\\r\\nhc',\n",
       " 'Subject: y 2 k - texas log\\r\\nname home pager\\r\\ngeorge grant 281 - 282 - 9084 713 - 764 - 5128\\r\\ncharlotte hawkins 281 - 655 - 0952 713 - 506 - 4006\\r\\naimee lannou 713 - 594 - 6562 713 - 698 - 7722\\r\\nrobert lloyd 281 - 847 - 2808 713 - 698 - 5446\\r\\nstella morris 281 - 448 - 9067 713 - 200 - 8376\\r\\nsusan trevino 713 - 688 - 6186 713 - 200 - 8368\\r\\nkim vaughn 281 - 586 - 0910 713 - 761 - 8153\\r\\njackie young 713 - 528 - 4562 713 - 990 - 6400\\r\\ncarlos rodriguez 281 - 344 - 0991 713 - 761 - 2722\\r\\nmandy allen 281 - 970 - 6561 713 - 990 - 8332',\n",
       " 'Subject: re : lyondell citgo\\r\\nmy latest understanding is the buyback will be in place through 12 / 31 / 99 .\\r\\na new deal for 15 , 000 / day begins 1 / 1 / 00 and currently has no buyback\\r\\nprovision .\\r\\nken\\r\\nhoward b camp\\r\\n12 / 16 / 99 12 : 27 pm\\r\\nto : gary w lamphier / hou / ect @ ect\\r\\ncc : kenneth seaman / hou / ect @ ect , kristen j hanson / hou / ect @ ect , tina\\r\\nvaladez / hou / ect @ ect , howard b camp / hou / ect @ ect\\r\\nsubject : lyondell citgo\\r\\ngary ,\\r\\ni have been notified that there is a possibility that the buyback was not\\r\\neffective for lyondell citgo . could you please inform me via cc mail what\\r\\nthe status of the buyback is once you have reviewed it .\\r\\nhc',\n",
       " 'Subject: hpl fuel gas buy - back for december 1999\\r\\nfyi :\\r\\n- - - - - - - - - - - - - - - - - - - - - - forwarded by gregg lenart / hou / ect on 12 / 16 / 99 02 : 02 pm\\r\\n- - - - - - - - - - - - - - - - - - - - - - - - - - -\\r\\nenron north america corp .\\r\\nfrom : sally shuler @ enron 12 / 16 / 99 01 : 55 pm\\r\\nto : gregg lenart / hou / ect @ ect\\r\\ncc :\\r\\nsubject : hpl fuel gas buy - back for december 1999\\r\\n- - - - - - - - - - - - - - - - - - - - - - forwarded by sally shuler / gpgfin / enron on 12 / 16 / 99\\r\\n02 : 02 pm - - - - - - - - - - - - - - - - - - - - - - - - - - -\\r\\nmichael mitcham\\r\\n12 / 16 / 99 01 : 45 pm\\r\\nto : james prentice / gpgfin / enron @ enron , kerry roper / gpgfin / enron @ enron , sally\\r\\nshuler / gpgfin / enron @ enron , mark diedrich / gpgfin / enron @ enron , paul\\r\\nfox / ecf / enron @ enron\\r\\ncc :\\r\\nsubject : hpl fuel gas buy - back for december 1999\\r\\negp fuels fuels co . has sold back 7 , 000 mmbtu / day starting 12 / 17 through\\r\\n12 / 31 to hpl at $ 2 . 50 mmbtu .\\r\\nif anyone has any questions , please let me know .\\r\\nthanks',\n",
       " \"Subject: ua 4 - meter 1441 for 11 / 97 - falfurrias\\r\\ndaren - i need your help in resolving this issue . there wasn ' t any deal in\\r\\noss for the above reference meter , nor could i find anything in cpr . the\\r\\ncontract shows 089 - 41500 - 102 representing a sale in the amount of 9448 .\\r\\nthanks , stella\"]"
      ]
     },
     "execution_count": 3,
     "metadata": {},
     "output_type": "execute_result"
    }
   ],
   "source": [
    "# make sure folder location is correct on vocareum or your machine\n",
    "archive = zipfile.ZipFile('ham.zip', 'r')\n",
    "\n",
    "files_names = archive.namelist()\n",
    "enron1_ham = [str(archive.read(item), encoding='utf8', errors='ignore') for item in files_names]\n",
    "\n",
    "#show the first 10 spam\n",
    "\n",
    "enron1_ham[0:10]\n"
   ]
  },
  {
   "cell_type": "markdown",
   "metadata": {},
   "source": [
    "## 2.1 Clean data and extract numerical features <a name=\"2-2-Clean\"></a>"
   ]
  },
  {
   "cell_type": "markdown",
   "metadata": {},
   "source": [
    "### 2.2.1 Convert everything to lower case"
   ]
  },
  {
   "cell_type": "markdown",
   "metadata": {},
   "source": [
    "To clean a textual dataset for later analysis, we need to ensure we remove any upper-case characters. Run the code below.  "
   ]
  },
  {
   "cell_type": "markdown",
   "metadata": {},
   "source": [
    "**For spam:**"
   ]
  },
  {
   "cell_type": "code",
   "execution_count": 4,
   "metadata": {},
   "outputs": [
    {
     "data": {
      "text/plain": [
       "['subject: ^ . pe , nis s ^ ize mat ; ters ! yhvqbvdboevkcd\\r\\nbriababhdpr frdjvdbesk cdpizacqjkufx hfkosxcymgftzd wdyiwpbqipv xxieqncfpa\\r\\nthe only solution to penis enlargement\\r\\nfxbekdcaolk gsiaagcrhyp\\r\\nlimited offer : add at least 3 inches or get your money back !\\r\\nrlaegydzfb ylbafsepgjv\\r\\nwe are so sure our product works we are willing to prove it by offering a free trial bottle + a 100 % money back guarantee upon purchase if you are not satisfied with the results .\\r\\n- - - > click here to learn more - - -\\r\\nalso check out our * brand new * product : penis enlargement patches\\r\\ncomes with the 100 % money back warranty as well !\\r\\neqiupgbbaxz gogqkkdpbdo\\r\\nigjohodzauuuu yreliodctrin\\r\\ncbywdvdthl nogsvvbnwug\\r\\nno more offers\\r\\n',\n",
       " 'subject: re : rdd , the auxiliary iturean\\r\\nfree cable @ tv\\r\\ndabble bam servomechanism ferret canopy bookcase befog seductive elapse ballard daphne acrylate deride decadent desolate else sequestration condition ligament ornately yaqui giblet emphysematous woodland lie segovia almighty coffey shut china clubroom diagnostician\\r\\ncheer leadsman abominate cambric oligarchy mania woodyard quake tetrachloride contiguous welsh depressive synaptic trauma cloister banks canadian byroad alexander gnaw annette charlie\\r\\n',\n",
       " \"subject: stacey automated system generating 8 k per week parallelogram\\r\\npeople are\\r\\ngetting rich using this system ! now it ' s your\\r\\nturn !\\r\\nwe ' ve\\r\\ncracked the code and will show you . . . .\\r\\nthis is the\\r\\nonly system that does everything for you , so you can make\\r\\nmoney\\r\\n. . . . . . . .\\r\\nbecause your\\r\\nsuccess is . . . completely automated !\\r\\nlet me show\\r\\nyou how !\\r\\nclick\\r\\nhere\\r\\nto opt out click here % random _ text\\r\\n\",\n",
       " 'subject: enjoy it\\r\\ngeneric viagra , at cheap prices .\\r\\nmost places charge $ 20 , we charge $ 3 . quite a difference , huh ?\\r\\nan amazing erection within several seconds is\\r\\nguaranteed to you !\\r\\ngo into sexual overdrive today . . . vroooom !\\r\\nshipped worldwide . your easy - to - use solution is here : http : / / www . wwwbargins . biz / via / ? oxygen\\r\\n- - - - -\\r\\nlink below is for that people who dislike\\r\\nadv . . . . .\\r\\nhttp : / / www . wwwbargins . biz / off . html\\r\\n',\n",
       " 'subject: re [ 8 ] : dear friend -\\r\\nsize = 1 > order confirmation . your order should be shipped by january , via fedex .\\r\\nyour federal express tracking number is 45954036 .\\r\\nthank you for registering . your userid is : 56075519\\r\\nlearn to make a fortune with ebay !\\r\\ncomplete turnkey system software - videos - turorials\\r\\nclk here for information\\r\\nclilings .\\r\\n',\n",
       " 'subject: not p . leasing your wife anymore ? try via . gra !\\r\\ns . urprise your w . ife today !\\r\\nhow w . ould you like\\r\\na rock h . ard ere . ction ?\\r\\nwith c . ialis . . you can !\\r\\nl . asts longer then any com . petator\\r\\ng . eneric cial . is starts workingup _ to twic . e as fast as v . iagra\\r\\nproduce st . ronger e . rections\\r\\nhave a stronger 5 . exual desire\\r\\n1 . ncreased s . e . . xual stamina\\r\\nc . onfidential discr . ete ackaging\\r\\nfully do . ctor app . roved . l . earn mor . e !\\r\\n100 % mon . ey bac . k satisf . action gua . rantee !\\r\\nto be taken off our list , heres 8 p 2 b 5 crk 45 y 5652 uo 08 wsllhk 219 ed 8 ko 3 ergwn 5 v 4311 a 32 bggv 2 mll 746 buht 2 wzos 3 c 6 t 39 qrn 2 zd 55 qcc 5 a 6 dy 2 uwvqv 62 rs 8 p 2 b 5 crk 45 y 5652 uo 08 wsllhk 219 ei want a lagoon in my backyardkatie bemused me with her ( lack of ) intelligence . d 8 ko 3 ergwn 5 v 4311 a 32 bggv 2 mll 746 buht 2 wzos 3 c 6 t 39 qrn 2 zd 55 qcc 5 a 6 dy 2 uwvqv 62 rs 8 p 2 b 5 crk 45 y 5652 uo 08 wsllhk 219 ed 8 ko\\r\\ni want a lagoon in my backyardi want a lagoon in my backyardkatie bemused me with her ( lack of ) intelligence . i want a lagoon in my backyard',\n",
       " \"subject: re : kqttnvk , to bear their\\r\\nbanned cd ! government don ' t want me to sell it . see now *\\r\\nindirect obvious roebuck soma cornfield crane wattage ir collier stork brunt transcendental leathery burnside heighten planoconvex coordinate juju marlborough proposal allot janos artifice sturbridge darlene break\\r\\ntremulous arbitrage conjugacy catalogue casework auditor capillary diffractometer millionth osteopath honeymoon prexy jed haggle pang subtlety eight dominick harmon earsplitting extrude arcadia glutamate memphis frescoes cave psychoacoustic cashmere nubile diffusive binary\\r\\n\",\n",
       " \"subject: buy cheap prescription drugs online dd\\r\\ntop rated online store .\\r\\nhot new - levitra / lipitor / nexium\\r\\nweekly speciasls on all our drugs .\\r\\n- zocor\\r\\n- soma\\r\\n- ambien\\r\\n- phentermine\\r\\n- vlagra\\r\\n- discount generic ' s on all\\r\\n- more\\r\\nnext day discrete shipping on all products !\\r\\nhttp : / / www . rxstoreusa . biz / shopping\\r\\nplease , i wish to receive no more discounts on valuable items .\\r\\nhttp : / / www . rxstoreusa . biz / a . html\\r\\njet\\r\\ndjjdnj 33 xks npvjkps ekhvhdqkxhm xvgwk\\r\\ncpjtrsbqgogmjnyi\\r\\nuknuilrj\\r\\nmoqwrcaigwvvfpsljzycp\\r\\nk p\\r\\ne p\\r\\ngp c j\\r\\n\",\n",
       " \"subject: cut your medic @ l costs by 65 % on brand name medic @ tions .\\r\\ncut your medic @ l costs by 65 % on brand name medic @ tions .\\r\\ndispelling apprise darkle binghamton\\r\\ncarbide z cmnnfoaw gjohoh gtfzfm w wjxbu i e xldqdn\\r\\nplease stop sending\\r\\n.\\r\\n.\\r\\n.\\r\\n.\\r\\n.\\r\\n.\\r\\n.\\r\\n.\\r\\nblank horsehair\\r\\nsaddle permutation sentiment y ewiluesavfcb\\r\\nbt rbydkru o\\r\\nbztu lcw yhk sylvia belt\\r\\nbowie saginaw resistant contrive amplitude aphid\\r\\ns ' s avon footprint clammy argonne deus\\r\\n.\\r\\n- - - - - begin pgp signature - - - - -\\r\\nversion : pgp 8 . 0 . 2 - not licensed for commercial use : www . pgp . com\\r\\n43 nlb / / dfikbaqugvipevwbi\\r\\n= akaa\\r\\n- - - - - end pgp signature - - - - -\\r\\ncut your medic @ l costs by 65 % on brand name medic @ tions . 7 brutal 56\\r\\ndispersivevuwk wd\\r\\nktxqe uneccg\\r\\n7 iwordsworthl\\r\\nmvdpl k fxa lvhf mrkstqqhqyr jhxc\\r\\ncut your medic @ l costs by 65 % on brand name medic @ tions .\",\n",
       " 'subject: smoke 9885\\r\\ncgfsaw 91 cmdaawlolmrlbw 9 rcmlob 3 muz 3 i =\\r\\ngary crew has used kim as one of the main characters to tell the story about the wild children . billy \\' s papa tries to tell him that it is all for the best\\r\\nfirst confucianism deals with the rational cosmic order and the organization of worldly affairs . four modified varieties of this last \" ( twain 8 ) .']"
      ]
     },
     "execution_count": 4,
     "metadata": {},
     "output_type": "execute_result"
    }
   ],
   "source": [
    "enron1_spam_preparation = [email.lower() for email in enron1_spam] \n",
    "\n",
    "#show the first 10 spam \n",
    "\n",
    "enron1_spam_preparation[0:10] "
   ]
  },
  {
   "cell_type": "markdown",
   "metadata": {},
   "source": [
    "**For ham:**"
   ]
  },
  {
   "cell_type": "code",
   "execution_count": 5,
   "metadata": {},
   "outputs": [
    {
     "data": {
      "text/plain": [
       "['subject: entex transistion\\r\\nthe purpose of the email is to recap the kickoff meeting held on yesterday\\r\\nwith members from commercial and volume managment concernig the entex account :\\r\\neffective january 2000 , thu nguyen ( x 37159 ) in the volume managment group ,\\r\\nwill take over the responsibility of allocating the entex contracts . howard\\r\\nand thu began some training this month and will continue to transition the\\r\\naccount over the next few months . entex will be thu \\' s primary account\\r\\nespecially during these first few months as she learns the allocations\\r\\nprocess and the contracts .\\r\\nhoward will continue with his lead responsibilites within the group and be\\r\\navailable for questions or as a backup , if necessary ( thanks howard for all\\r\\nyour hard work on the account this year ! ) .\\r\\nin the initial phases of this transistion , i would like to organize an entex\\r\\n\" account \" team . the team ( members from front office to back office ) would\\r\\nmeet at some point in the month to discuss any issues relating to the\\r\\nscheduling , allocations , settlements , contracts , deals , etc . this hopefully\\r\\nwill give each of you a chance to not only identify and resolve issues before\\r\\nthe finalization process , but to learn from each other relative to your\\r\\nrespective areas and allow the newcomers to get up to speed on the account as\\r\\nwell . i would encourage everyone to attend these meetings initially as i\\r\\nbelieve this is a critical part to the success of the entex account .\\r\\ni will have my assistant to coordinate the initial meeting for early 1 / 2000 .\\r\\nif anyone has any questions or concerns , please feel free to call me or stop\\r\\nby . thanks in advance for everyone \\' s cooperation . . . . . . . . . . .\\r\\njulie - please add thu to the confirmations distributions list',\n",
       " 'subject: lst rev dec . 1999 josey ranch nom\\r\\nfyi\\r\\n- - - - - - - - - - - - - - - - - - - - - - forwarded by susan d trevino / hou / ect on 12 / 15 / 99 08 : 40\\r\\nam - - - - - - - - - - - - - - - - - - - - - - - - - - -\\r\\nbob withers on 12 / 14 / 99 05 : 11 : 06 pm\\r\\nto : susan d trevino / hou / ect @ ect\\r\\ncc : stretch brennan , kevin mclarney ,\\r\\n\" taylor vance ( e - mail ) \"\\r\\nsubject : lst rev dec . 1999 josey ranch nom\\r\\nsusan : as we discussed , this change was missed but was discussed with you\\r\\nlast week . i apologize for the omission . i am checking with my field\\r\\npersonnel and anticipate a further reduction ( due to well production\\r\\ndecreases ) effective 12 / 15 which i will send under a separate email for an\\r\\n\" intra - day \" change wednesday .\\r\\nhere \\' s revised december 1999 ( effective 12 / 9 / 99 ) setup for\\r\\njosey : ( using 1 . 081 btu / mcf )\\r\\n* gas deliveries into hpl\\r\\n12 , 300 mmbtu / d for kri ( net reduction of\\r\\n1 , 000 mmbtu / d )\\r\\n12 , 300 mmbtu / d into hpl\\r\\nbob withers > <\\r\\nkcs energy , 5555 san felipe , suite 1200\\r\\nhouston , tx 77056\\r\\nvoice mail / page 713 - 964 - 9434',\n",
       " 'subject: 2 nd rev dec . 1999 josey ranch nom\\r\\n- - - - - - - - - - - - - - - - - - - - - - forwarded by susan d trevino / hou / ect on 12 / 15 / 99 08 : 41\\r\\nam - - - - - - - - - - - - - - - - - - - - - - - - - - -\\r\\nbob withers on 12 / 15 / 99 08 : 28 : 08 am\\r\\nto : susan d trevino / hou / ect @ ect\\r\\ncc : stretch brennan , kevin mclarney ,\\r\\n\" \\' taylor vance ( e - mail ) \\' \"\\r\\nsubject : 2 nd rev dec . 1999 josey ranch nom\\r\\nhere \\' s revised december 1999 ( effective 12 / 15 / 99 ) setup for\\r\\njosey : ( using 1 . 081 btu / mcf )\\r\\n* gas deliveries into hpl\\r\\n9 , 300 mmbtu / d for kri ( net reduction of\\r\\n3 , 000 mmbtu / d )\\r\\n9 , 300 mmbtu / d into hpl\\r\\nbob withers > <\\r\\nkcs energy , 5555 san felipe , suite 1200\\r\\nhouston , tx 77056\\r\\nvoice mail / page 713 - 964 - 9434',\n",
       " 'subject: unify close schedule\\r\\nthe following is the close schedule for this coming month ( year - end . ) please\\r\\nkeep in the mind the following key times . . . .\\r\\nunify to sitara bridge back 1 : 45 p . m . thursday , dec 30 th ( all errors must be\\r\\nclear by this time )\\r\\nmass draft at 6 p . m . thursday evening , dec 30 th .\\r\\naccrual process begins friday morning , dec 31 st at 6 : 30 a . m . ( if your group\\r\\nimpacts the accrual , please ensure that the necessary people are available\\r\\nfor support if needed , as this is an enron holiday . )\\r\\nplease feel free to contact me should you have any questions .\\r\\nthank you , melissa x 35615',\n",
       " 'subject: meter 1431 - nov 1999\\r\\naimee ,\\r\\nsitara deal 92943 for meter 1431 has expired on oct 31 , 1999 . settlements\\r\\nis unable to draft an invoice for this deal . this deal either needs to be\\r\\nextended or a new deal needs to be set up . please let me know when this is\\r\\nresolved . we need it resolved by friday , dec 17 .\\r\\nhc',\n",
       " 'subject: meter 1431 - nov 1999\\r\\ndaren -\\r\\ncould you please resolve this issue for howard ? i will be out of the office\\r\\nthe next two days .\\r\\nwhen this is done , please let george know . thanks .\\r\\naimee\\r\\n- - - - - - - - - - - - - - - - - - - - - - forwarded by aimee lannou / hou / ect on 12 / 15 / 99 01 : 27 pm\\r\\n- - - - - - - - - - - - - - - - - - - - - - - - - - -\\r\\nhoward b camp\\r\\n12 / 15 / 99 01 : 01 pm\\r\\nto : aimee lannou / hou / ect @ ect\\r\\ncc : daren j farmer / hou / ect @ ect , stacey neuweiler / hou / ect @ ect , mary m\\r\\nsmith / hou / ect @ ect\\r\\nsubject : meter 1431 - nov 1999\\r\\naimee ,\\r\\nsitara deal 92943 for meter 1431 has expired on oct 31 , 1999 . settlements\\r\\nis unable to draft an invoice for this deal . this deal either needs to be\\r\\nextended or a new deal needs to be set up . please let me know when this is\\r\\nresolved . we need it resolved by friday , dec 17 .\\r\\nhc',\n",
       " 'subject: y 2 k - texas log\\r\\nname home pager\\r\\ngeorge grant 281 - 282 - 9084 713 - 764 - 5128\\r\\ncharlotte hawkins 281 - 655 - 0952 713 - 506 - 4006\\r\\naimee lannou 713 - 594 - 6562 713 - 698 - 7722\\r\\nrobert lloyd 281 - 847 - 2808 713 - 698 - 5446\\r\\nstella morris 281 - 448 - 9067 713 - 200 - 8376\\r\\nsusan trevino 713 - 688 - 6186 713 - 200 - 8368\\r\\nkim vaughn 281 - 586 - 0910 713 - 761 - 8153\\r\\njackie young 713 - 528 - 4562 713 - 990 - 6400\\r\\ncarlos rodriguez 281 - 344 - 0991 713 - 761 - 2722\\r\\nmandy allen 281 - 970 - 6561 713 - 990 - 8332',\n",
       " 'subject: re : lyondell citgo\\r\\nmy latest understanding is the buyback will be in place through 12 / 31 / 99 .\\r\\na new deal for 15 , 000 / day begins 1 / 1 / 00 and currently has no buyback\\r\\nprovision .\\r\\nken\\r\\nhoward b camp\\r\\n12 / 16 / 99 12 : 27 pm\\r\\nto : gary w lamphier / hou / ect @ ect\\r\\ncc : kenneth seaman / hou / ect @ ect , kristen j hanson / hou / ect @ ect , tina\\r\\nvaladez / hou / ect @ ect , howard b camp / hou / ect @ ect\\r\\nsubject : lyondell citgo\\r\\ngary ,\\r\\ni have been notified that there is a possibility that the buyback was not\\r\\neffective for lyondell citgo . could you please inform me via cc mail what\\r\\nthe status of the buyback is once you have reviewed it .\\r\\nhc',\n",
       " 'subject: hpl fuel gas buy - back for december 1999\\r\\nfyi :\\r\\n- - - - - - - - - - - - - - - - - - - - - - forwarded by gregg lenart / hou / ect on 12 / 16 / 99 02 : 02 pm\\r\\n- - - - - - - - - - - - - - - - - - - - - - - - - - -\\r\\nenron north america corp .\\r\\nfrom : sally shuler @ enron 12 / 16 / 99 01 : 55 pm\\r\\nto : gregg lenart / hou / ect @ ect\\r\\ncc :\\r\\nsubject : hpl fuel gas buy - back for december 1999\\r\\n- - - - - - - - - - - - - - - - - - - - - - forwarded by sally shuler / gpgfin / enron on 12 / 16 / 99\\r\\n02 : 02 pm - - - - - - - - - - - - - - - - - - - - - - - - - - -\\r\\nmichael mitcham\\r\\n12 / 16 / 99 01 : 45 pm\\r\\nto : james prentice / gpgfin / enron @ enron , kerry roper / gpgfin / enron @ enron , sally\\r\\nshuler / gpgfin / enron @ enron , mark diedrich / gpgfin / enron @ enron , paul\\r\\nfox / ecf / enron @ enron\\r\\ncc :\\r\\nsubject : hpl fuel gas buy - back for december 1999\\r\\negp fuels fuels co . has sold back 7 , 000 mmbtu / day starting 12 / 17 through\\r\\n12 / 31 to hpl at $ 2 . 50 mmbtu .\\r\\nif anyone has any questions , please let me know .\\r\\nthanks',\n",
       " \"subject: ua 4 - meter 1441 for 11 / 97 - falfurrias\\r\\ndaren - i need your help in resolving this issue . there wasn ' t any deal in\\r\\noss for the above reference meter , nor could i find anything in cpr . the\\r\\ncontract shows 089 - 41500 - 102 representing a sale in the amount of 9448 .\\r\\nthanks , stella\"]"
      ]
     },
     "execution_count": 5,
     "metadata": {},
     "output_type": "execute_result"
    }
   ],
   "source": [
    "enron1_ham_preparation = [email.lower() for email in enron1_ham] \n",
    "\n",
    "#show the first 10 ham \n",
    "\n",
    "enron1_ham_preparation[0:10] "
   ]
  },
  {
   "cell_type": "markdown",
   "metadata": {},
   "source": [
    "### 2.2.2 Tokenisation "
   ]
  },
  {
   "cell_type": "markdown",
   "metadata": {},
   "source": [
    "Next we create tokens (individual words) from our email data. Run the code below. "
   ]
  },
  {
   "cell_type": "code",
   "execution_count": 6,
   "metadata": {},
   "outputs": [
    {
     "name": "stderr",
     "output_type": "stream",
     "text": [
      "[nltk_data] Downloading package punkt to /mnt/vocwork4/work/eee_W_2725\n",
      "[nltk_data]     895/asn2001892_23/asn2001893_1/work/nltk_data...\n",
      "[nltk_data]   Package punkt is already up-to-date!\n"
     ]
    },
    {
     "data": {
      "text/plain": [
       "True"
      ]
     },
     "execution_count": 6,
     "metadata": {},
     "output_type": "execute_result"
    }
   ],
   "source": [
    "## disabling SSl check to download the package \"punkt\"\n",
    "try:\n",
    "    _create_unverified_https_context = ssl._create_unverified_context\n",
    "except AttributeError:\n",
    "    pass \n",
    "else:\n",
    "    ssl._create_default_https_context = _create_unverified_https_context\n",
    "    \n",
    "# load tokens (words) \n",
    "\n",
    "nltk.download('punkt') "
   ]
  },
  {
   "cell_type": "markdown",
   "metadata": {},
   "source": [
    "**For spam:**"
   ]
  },
  {
   "cell_type": "code",
   "execution_count": 7,
   "metadata": {},
   "outputs": [
    {
     "name": "stdout",
     "output_type": "stream",
     "text": [
      "['subject', ':', '^', '.', 'pe', ',', 'nis', 's', '^', 'ize', 'mat', ';', 'ters', '!', 'yhvqbvdboevkcd', 'briababhdpr', 'frdjvdbesk', 'cdpizacqjkufx', 'hfkosxcymgftzd', 'wdyiwpbqipv', 'xxieqncfpa', 'the', 'only', 'solution', 'to', 'penis', 'enlargement', 'fxbekdcaolk', 'gsiaagcrhyp', 'limited', 'offer', ':', 'add', 'at', 'least', '3', 'inches', 'or', 'get', 'your', 'money', 'back', '!', 'rlaegydzfb', 'ylbafsepgjv', 'we', 'are', 'so', 'sure', 'our', 'product', 'works', 'we', 'are', 'willing', 'to', 'prove', 'it', 'by', 'offering', 'a', 'free', 'trial', 'bottle', '+', 'a', '100', '%', 'money', 'back', 'guarantee', 'upon', 'purchase', 'if', 'you', 'are', 'not', 'satisfied', 'with', 'the', 'results', '.', '-', '-', '-', '>', 'click', 'here', 'to', 'learn', 'more', '-', '-', '-', 'also', 'check', 'out', 'our', '*', 'brand', 'new', '*', 'product', ':', 'penis', 'enlargement', 'patches', 'comes', 'with', 'the', '100', '%', 'money', 'back', 'warranty', 'as', 'well', '!', 'eqiupgbbaxz', 'gogqkkdpbdo', 'igjohodzauuuu', 'yreliodctrin', 'cbywdvdthl', 'nogsvvbnwug', 'no', 'more', 'offers']\n"
     ]
    }
   ],
   "source": [
    "enron1_spam_preparation =[word_tokenize(email) for email in enron1_spam_preparation] \n",
    "\n",
    "print(enron1_spam_preparation[0]) "
   ]
  },
  {
   "cell_type": "markdown",
   "metadata": {},
   "source": [
    "**For ham:**"
   ]
  },
  {
   "cell_type": "code",
   "execution_count": 8,
   "metadata": {},
   "outputs": [
    {
     "name": "stdout",
     "output_type": "stream",
     "text": [
      "['subject', ':', 'entex', 'transistion', 'the', 'purpose', 'of', 'the', 'email', 'is', 'to', 'recap', 'the', 'kickoff', 'meeting', 'held', 'on', 'yesterday', 'with', 'members', 'from', 'commercial', 'and', 'volume', 'managment', 'concernig', 'the', 'entex', 'account', ':', 'effective', 'january', '2000', ',', 'thu', 'nguyen', '(', 'x', '37159', ')', 'in', 'the', 'volume', 'managment', 'group', ',', 'will', 'take', 'over', 'the', 'responsibility', 'of', 'allocating', 'the', 'entex', 'contracts', '.', 'howard', 'and', 'thu', 'began', 'some', 'training', 'this', 'month', 'and', 'will', 'continue', 'to', 'transition', 'the', 'account', 'over', 'the', 'next', 'few', 'months', '.', 'entex', 'will', 'be', 'thu', \"'\", 's', 'primary', 'account', 'especially', 'during', 'these', 'first', 'few', 'months', 'as', 'she', 'learns', 'the', 'allocations', 'process', 'and', 'the', 'contracts', '.', 'howard', 'will', 'continue', 'with', 'his', 'lead', 'responsibilites', 'within', 'the', 'group', 'and', 'be', 'available', 'for', 'questions', 'or', 'as', 'a', 'backup', ',', 'if', 'necessary', '(', 'thanks', 'howard', 'for', 'all', 'your', 'hard', 'work', 'on', 'the', 'account', 'this', 'year', '!', ')', '.', 'in', 'the', 'initial', 'phases', 'of', 'this', 'transistion', ',', 'i', 'would', 'like', 'to', 'organize', 'an', 'entex', \"''\", 'account', '``', 'team', '.', 'the', 'team', '(', 'members', 'from', 'front', 'office', 'to', 'back', 'office', ')', 'would', 'meet', 'at', 'some', 'point', 'in', 'the', 'month', 'to', 'discuss', 'any', 'issues', 'relating', 'to', 'the', 'scheduling', ',', 'allocations', ',', 'settlements', ',', 'contracts', ',', 'deals', ',', 'etc', '.', 'this', 'hopefully', 'will', 'give', 'each', 'of', 'you', 'a', 'chance', 'to', 'not', 'only', 'identify', 'and', 'resolve', 'issues', 'before', 'the', 'finalization', 'process', ',', 'but', 'to', 'learn', 'from', 'each', 'other', 'relative', 'to', 'your', 'respective', 'areas', 'and', 'allow', 'the', 'newcomers', 'to', 'get', 'up', 'to', 'speed', 'on', 'the', 'account', 'as', 'well', '.', 'i', 'would', 'encourage', 'everyone', 'to', 'attend', 'these', 'meetings', 'initially', 'as', 'i', 'believe', 'this', 'is', 'a', 'critical', 'part', 'to', 'the', 'success', 'of', 'the', 'entex', 'account', '.', 'i', 'will', 'have', 'my', 'assistant', 'to', 'coordinate', 'the', 'initial', 'meeting', 'for', 'early', '1', '/', '2000', '.', 'if', 'anyone', 'has', 'any', 'questions', 'or', 'concerns', ',', 'please', 'feel', 'free', 'to', 'call', 'me', 'or', 'stop', 'by', '.', 'thanks', 'in', 'advance', 'for', 'everyone', \"'\", 's', 'cooperation', '.', '.', '.', '.', '.', '.', '.', '.', '.', '.', '.', 'julie', '-', 'please', 'add', 'thu', 'to', 'the', 'confirmations', 'distributions', 'list']\n"
     ]
    }
   ],
   "source": [
    "enron1_ham_preparation =[word_tokenize(email) for email in enron1_ham_preparation] \n",
    "\n",
    "print(enron1_ham_preparation[0]) "
   ]
  },
  {
   "cell_type": "markdown",
   "metadata": {},
   "source": [
    "### 2.2.3 Removing stopwords "
   ]
  },
  {
   "cell_type": "markdown",
   "metadata": {},
   "source": [
    "To remove insignificant words from our dataset, we can first load stopwords (a predefined set of words to exclude from analysis such as `the`, `a`, `it`, etc). Run the code below. "
   ]
  },
  {
   "cell_type": "code",
   "execution_count": 9,
   "metadata": {},
   "outputs": [
    {
     "name": "stderr",
     "output_type": "stream",
     "text": [
      "[nltk_data] Downloading package stopwords to /mnt/vocwork4/work/eee_W_\n",
      "[nltk_data]     2725895/asn2001892_23/asn2001893_1/work/nltk_data...\n",
      "[nltk_data]   Package stopwords is already up-to-date!\n"
     ]
    },
    {
     "data": {
      "text/plain": [
       "True"
      ]
     },
     "execution_count": 9,
     "metadata": {},
     "output_type": "execute_result"
    }
   ],
   "source": [
    "nltk.download('stopwords') "
   ]
  },
  {
   "cell_type": "markdown",
   "metadata": {},
   "source": [
    "Next we create a list of the stopwords as they appear in our dataset. Run the code below."
   ]
  },
  {
   "cell_type": "code",
   "execution_count": 10,
   "metadata": {},
   "outputs": [
    {
     "data": {
      "text/plain": [
       "['i', 'me', 'my', 'myself', 'we', 'our', 'ours', 'ourselves', 'you', \"you're\"]"
      ]
     },
     "execution_count": 10,
     "metadata": {},
     "output_type": "execute_result"
    }
   ],
   "source": [
    "list_stopwords=stopwords.words('english') \n",
    "\n",
    "list_stopwords[0:10] "
   ]
  },
  {
   "cell_type": "markdown",
   "metadata": {},
   "source": [
    "**For spam:**"
   ]
  },
  {
   "cell_type": "code",
   "execution_count": 11,
   "metadata": {},
   "outputs": [
    {
     "name": "stdout",
     "output_type": "stream",
     "text": [
      "['subject', ':', '^', '.', 'pe', ',', 'nis', '^', 'ize', 'mat', ';', 'ters', '!', 'yhvqbvdboevkcd', 'briababhdpr', 'frdjvdbesk', 'cdpizacqjkufx', 'hfkosxcymgftzd', 'wdyiwpbqipv', 'xxieqncfpa', 'solution', 'penis', 'enlargement', 'fxbekdcaolk', 'gsiaagcrhyp', 'limited', 'offer', ':', 'add', 'least', '3', 'inches', 'get', 'money', 'back', '!', 'rlaegydzfb', 'ylbafsepgjv', 'sure', 'product', 'works', 'willing', 'prove', 'offering', 'free', 'trial', 'bottle', '+', '100', '%', 'money', 'back', 'guarantee', 'upon', 'purchase', 'satisfied', 'results', '.', '-', '-', '-', '>', 'click', 'learn', '-', '-', '-', 'also', 'check', '*', 'brand', 'new', '*', 'product', ':', 'penis', 'enlargement', 'patches', 'comes', '100', '%', 'money', 'back', 'warranty', 'well', '!', 'eqiupgbbaxz', 'gogqkkdpbdo', 'igjohodzauuuu', 'yreliodctrin', 'cbywdvdthl', 'nogsvvbnwug', 'offers']\n"
     ]
    }
   ],
   "source": [
    "enron1_spam_preparation= [[word for word in email if not word in list_stopwords] for email in enron1_spam_preparation] \n",
    "\n",
    "print(enron1_spam_preparation[0]) "
   ]
  },
  {
   "cell_type": "markdown",
   "metadata": {},
   "source": [
    "**For ham:**"
   ]
  },
  {
   "cell_type": "code",
   "execution_count": 12,
   "metadata": {},
   "outputs": [
    {
     "name": "stdout",
     "output_type": "stream",
     "text": [
      "['subject', ':', 'entex', 'transistion', 'purpose', 'email', 'recap', 'kickoff', 'meeting', 'held', 'yesterday', 'members', 'commercial', 'volume', 'managment', 'concernig', 'entex', 'account', ':', 'effective', 'january', '2000', ',', 'thu', 'nguyen', '(', 'x', '37159', ')', 'volume', 'managment', 'group', ',', 'take', 'responsibility', 'allocating', 'entex', 'contracts', '.', 'howard', 'thu', 'began', 'training', 'month', 'continue', 'transition', 'account', 'next', 'months', '.', 'entex', 'thu', \"'\", 'primary', 'account', 'especially', 'first', 'months', 'learns', 'allocations', 'process', 'contracts', '.', 'howard', 'continue', 'lead', 'responsibilites', 'within', 'group', 'available', 'questions', 'backup', ',', 'necessary', '(', 'thanks', 'howard', 'hard', 'work', 'account', 'year', '!', ')', '.', 'initial', 'phases', 'transistion', ',', 'would', 'like', 'organize', 'entex', \"''\", 'account', '``', 'team', '.', 'team', '(', 'members', 'front', 'office', 'back', 'office', ')', 'would', 'meet', 'point', 'month', 'discuss', 'issues', 'relating', 'scheduling', ',', 'allocations', ',', 'settlements', ',', 'contracts', ',', 'deals', ',', 'etc', '.', 'hopefully', 'give', 'chance', 'identify', 'resolve', 'issues', 'finalization', 'process', ',', 'learn', 'relative', 'respective', 'areas', 'allow', 'newcomers', 'get', 'speed', 'account', 'well', '.', 'would', 'encourage', 'everyone', 'attend', 'meetings', 'initially', 'believe', 'critical', 'part', 'success', 'entex', 'account', '.', 'assistant', 'coordinate', 'initial', 'meeting', 'early', '1', '/', '2000', '.', 'anyone', 'questions', 'concerns', ',', 'please', 'feel', 'free', 'call', 'stop', '.', 'thanks', 'advance', 'everyone', \"'\", 'cooperation', '.', '.', '.', '.', '.', '.', '.', '.', '.', '.', '.', 'julie', '-', 'please', 'add', 'thu', 'confirmations', 'distributions', 'list']\n"
     ]
    }
   ],
   "source": [
    "enron1_ham_preparation = [[word for word in email if not word in list_stopwords] for email in enron1_ham_preparation] \n",
    "\n",
    "print(enron1_ham_preparation[0]) "
   ]
  },
  {
   "cell_type": "markdown",
   "metadata": {},
   "source": [
    "# 3 Data Exploration <a name=\"3-Data\"></a>"
   ]
  },
  {
   "cell_type": "markdown",
   "metadata": {},
   "source": [
    "Run the code below to determine the percentage of spam in the dataset (i.e. to determine if the dataset is balanced or imbalanced). "
   ]
  },
  {
   "cell_type": "code",
   "execution_count": 13,
   "metadata": {},
   "outputs": [
    {
     "data": {
      "text/plain": [
       "0.026511134676564158"
      ]
     },
     "execution_count": 13,
     "metadata": {},
     "output_type": "execute_result"
    }
   ],
   "source": [
    "len(enron1_spam)/len(enron1_spam+enron1_ham) "
   ]
  },
  {
   "cell_type": "markdown",
   "metadata": {},
   "source": [
    "## 3.1 Feature extraction from text documents <a name=\"3-1\"></a>"
   ]
  },
  {
   "cell_type": "markdown",
   "metadata": {},
   "source": [
    "We use a vectoriser technique called Count Vectorizer to extract numerical features from text documents (`enron1_spam` and `enron1_ham`).  \n",
    "\n",
    "Moreover, if using this function, it can convert everything to lower case (`lowercase=True`), perform tokenisation by words (`analyzer='word'`), and remove stopwords (`stop_words='english'`). Run the code below."
   ]
  },
  {
   "cell_type": "code",
   "execution_count": 14,
   "metadata": {
    "collapsed": true
   },
   "outputs": [],
   "source": [
    "CountVec = CountVectorizer(lowercase=True,analyzer='word',stop_words='english') "
   ]
  },
  {
   "cell_type": "markdown",
   "metadata": {},
   "source": [
    "## 3.2 Get feature vectors <a name=\"3-2\"></a>"
   ]
  },
  {
   "cell_type": "markdown",
   "metadata": {},
   "source": [
    "Run the code below to create the vectors for the Enron dataset."
   ]
  },
  {
   "cell_type": "code",
   "execution_count": 15,
   "metadata": {
    "collapsed": true
   },
   "outputs": [],
   "source": [
    "feature_vectors = CountVec.fit_transform(enron1_ham + enron1_spam) "
   ]
  },
  {
   "cell_type": "markdown",
   "metadata": {},
   "source": [
    "Next, we want to show the extracted features from the dataset. These features are all the words found in the spam and ham emails. Run the code below. "
   ]
  },
  {
   "cell_type": "code",
   "execution_count": 16,
   "metadata": {},
   "outputs": [
    {
     "data": {
      "text/plain": [
       "array(['00', '000', '0000', ..., 'zyl', 'zyyqywp', 'zzn'], dtype=object)"
      ]
     },
     "execution_count": 16,
     "metadata": {},
     "output_type": "execute_result"
    }
   ],
   "source": [
    "CountVec.get_feature_names_out() "
   ]
  },
  {
   "cell_type": "markdown",
   "metadata": {},
   "source": [
    "# 4 Data Modelling <a name=\"4-Data\"></a>"
   ]
  },
  {
   "cell_type": "markdown",
   "metadata": {},
   "source": [
    "We now move into the data modelling phase of the data science process. Begin by apportioning the dataset into training and test sets, with an 80-20 split.  \n",
    "\n",
    "Note: we set the label 0 for ham and 1 for spam, and we set `random_state` (a parameter of the function train_test_split) equal to an integer (random_state=0). This `random_state` is a number used to initialise a pseudorandom number generator for reproducible output across multiple function calls. \n",
    " \n",
    "\n",
    "Run the code below. "
   ]
  },
  {
   "cell_type": "code",
   "execution_count": 17,
   "metadata": {
    "collapsed": true
   },
   "outputs": [],
   "source": [
    "X_train, X_test, y_train, y_test = train_test_split(feature_vectors, [0] * len(enron1_ham) + [1] * len(enron1_spam), random_state = 0, test_size=0.2) "
   ]
  },
  {
   "cell_type": "markdown",
   "metadata": {},
   "source": [
    "## 4.1 KNN and Hyperparameter tuning <a name=\"4-1\"></a>"
   ]
  },
  {
   "cell_type": "markdown",
   "metadata": {},
   "source": [
    "First, let’s look at using hyperparameters with KNN. To begin run the code below to define the classifier KNN. "
   ]
  },
  {
   "cell_type": "code",
   "execution_count": 18,
   "metadata": {
    "collapsed": true
   },
   "outputs": [],
   "source": [
    "knn = KNeighborsClassifier() "
   ]
  },
  {
   "cell_type": "markdown",
   "metadata": {},
   "source": [
    "## 4.2 Apply grid search to KNN <a name=\"4-2\"></a>"
   ]
  },
  {
   "cell_type": "markdown",
   "metadata": {},
   "source": [
    "Next, we define the dictionary of hyperparameters (number of neighbours and p) to be evaluated using grid search. In the following steps, we will find the best parameters among the parameters of this dictionary. "
   ]
  },
  {
   "cell_type": "code",
   "execution_count": 19,
   "metadata": {
    "collapsed": true
   },
   "outputs": [],
   "source": [
    "hyperparameters = { \n",
    "\n",
    "        'n_neighbors': [1, 3, 5, 9, 11], \n",
    "\n",
    "        'p': [1, 2] \n",
    "\n",
    "    } "
   ]
  },
  {
   "cell_type": "markdown",
   "metadata": {},
   "source": [
    "We’ll now use grid search to determine the best parameters according to the metric \"accuracy\". Run the code below to add the grid search technique to the classifier “knn”. "
   ]
  },
  {
   "cell_type": "code",
   "execution_count": 20,
   "metadata": {
    "collapsed": true
   },
   "outputs": [],
   "source": [
    "knn = GridSearchCV(knn, hyperparameters, scoring='accuracy') "
   ]
  },
  {
   "cell_type": "markdown",
   "metadata": {},
   "source": [
    "## 4.3 Train and evaluate the KNN classifier  <a name=\"4-3\"></a>"
   ]
  },
  {
   "cell_type": "markdown",
   "metadata": {},
   "source": [
    "Run the code below to train the KNN classifier using hyperparameter tuning. "
   ]
  },
  {
   "cell_type": "code",
   "execution_count": 21,
   "metadata": {},
   "outputs": [
    {
     "name": "stdout",
     "output_type": "stream",
     "text": [
      "Best p: 2\n",
      "Best n_neighbors: 1\n"
     ]
    }
   ],
   "source": [
    "knn.fit(X_train, y_train) \n",
    "\n",
    "print('Best p:', knn.best_estimator_.get_params()['p']) \n",
    "\n",
    "print('Best n_neighbors:', knn.best_estimator_.get_params()['n_neighbors']) "
   ]
  },
  {
   "cell_type": "markdown",
   "metadata": {},
   "source": [
    "## 4.4 KNN classifier evaluation <a name=\"4-4\"></a>"
   ]
  },
  {
   "cell_type": "markdown",
   "metadata": {},
   "source": [
    "Run the code below to first define a dataframe to save all results when running different classifiers including KNN and Decision Tree."
   ]
  },
  {
   "cell_type": "code",
   "execution_count": 22,
   "metadata": {
    "collapsed": true
   },
   "outputs": [],
   "source": [
    "results=pd.DataFrame() "
   ]
  },
  {
   "cell_type": "markdown",
   "metadata": {},
   "source": [
    "Now get the predicted labels from the test set. Run the code below. "
   ]
  },
  {
   "cell_type": "code",
   "execution_count": 23,
   "metadata": {
    "collapsed": true
   },
   "outputs": [],
   "source": [
    "y_predicted = knn.predict(X_test)"
   ]
  },
  {
   "cell_type": "markdown",
   "metadata": {},
   "source": [
    "## 4.5 Metrics for evaluation of KNN  <a name=\"4-5\"></a>"
   ]
  },
  {
   "cell_type": "markdown",
   "metadata": {},
   "source": [
    "Run the code below to produce different metrics for later comparison.  "
   ]
  },
  {
   "cell_type": "markdown",
   "metadata": {},
   "source": [
    "**Confusion matrix**"
   ]
  },
  {
   "cell_type": "code",
   "execution_count": 24,
   "metadata": {},
   "outputs": [
    {
     "data": {
      "text/plain": [
       "<sklearn.metrics._plot.confusion_matrix.ConfusionMatrixDisplay at 0x7f993d50b250>"
      ]
     },
     "execution_count": 24,
     "metadata": {},
     "output_type": "execute_result"
    },
    {
     "data": {
      "image/png": "[encoded data removed]",
      "text/plain": [
       "<Figure size 432x288 with 2 Axes>"
      ]
     },
     "metadata": {
      "needs_background": "light"
     },
     "output_type": "display_data"
    }
   ],
   "source": [
    "cm = confusion_matrix(y_test, y_predicted, labels=knn.classes_) \n",
    "\n",
    "disp = ConfusionMatrixDisplay(confusion_matrix=cm, display_labels=knn.classes_) \n",
    "\n",
    "disp.plot() "
   ]
  },
  {
   "cell_type": "markdown",
   "metadata": {},
   "source": [
    "**Accuracy** "
   ]
  },
  {
   "cell_type": "code",
   "execution_count": 25,
   "metadata": {},
   "outputs": [
    {
     "name": "stdout",
     "output_type": "stream",
     "text": [
      "0.9721854304635762\n"
     ]
    }
   ],
   "source": [
    "results.loc['knn','accuracy']=accuracy_score(y_test,y_predicted) \n",
    "\n",
    "print(results.loc['knn','accuracy']) "
   ]
  },
  {
   "cell_type": "markdown",
   "metadata": {},
   "source": [
    "**Balanced accuracy**"
   ]
  },
  {
   "cell_type": "code",
   "execution_count": 26,
   "metadata": {},
   "outputs": [
    {
     "name": "stdout",
     "output_type": "stream",
     "text": [
      "0.6695578231292517\n"
     ]
    }
   ],
   "source": [
    "results.loc['knn','balanced_accuracy']=balanced_accuracy_score(y_test,y_predicted) \n",
    "\n",
    "print(results.loc['knn','balanced_accuracy']) "
   ]
  },
  {
   "cell_type": "markdown",
   "metadata": {},
   "source": [
    "**Training time (in seconds)**"
   ]
  },
  {
   "cell_type": "code",
   "execution_count": 27,
   "metadata": {},
   "outputs": [
    {
     "name": "stdout",
     "output_type": "stream",
     "text": [
      "0.0023887825012207037\n"
     ]
    }
   ],
   "source": [
    "results.loc['knn','training_time']=knn.cv_results_['mean_fit_time'].mean() \n",
    "\n",
    "print(results.loc['knn','training_time']) "
   ]
  },
  {
   "cell_type": "markdown",
   "metadata": {},
   "source": [
    "**Prediction time (in seconds) per email**"
   ]
  },
  {
   "cell_type": "code",
   "execution_count": 28,
   "metadata": {},
   "outputs": [
    {
     "name": "stdout",
     "output_type": "stream",
     "text": [
      "0.00020200986420081937\n"
     ]
    }
   ],
   "source": [
    "results.loc['knn','prediction_time']=knn.cv_results_['mean_score_time'].mean()/len(y_test) \n",
    "\n",
    "print(results.loc['knn','prediction_time']) "
   ]
  },
  {
   "cell_type": "markdown",
   "metadata": {},
   "source": [
    "## 4.6 Train and evaluate KNN (SMOTE)  <a name=\"4-6\"></a>"
   ]
  },
  {
   "cell_type": "markdown",
   "metadata": {},
   "source": [
    "You will remember that the Enron dataset has an imbalance issue (that is, the amount of spam email is a very small proportion compared to the ham email). To correct this, we can use SMOTE, an oversampling technique that will produce a balanced training set. Run the code below to generate synthetic samples of the class “spam” and thereby balance the training set. "
   ]
  },
  {
   "cell_type": "code",
   "execution_count": 29,
   "metadata": {
    "collapsed": true
   },
   "outputs": [],
   "source": [
    "X_train_smote, y_train_smote =SMOTE().fit_resample(X_train, y_train) "
   ]
  },
  {
   "cell_type": "markdown",
   "metadata": {},
   "source": [
    "After applying SMOTE, the training set is balanced and ready for training. Therefore, 50% of samples in the training set are spam. To check, let’s now count the proportion of spam emails in the dataset. Run the code below."
   ]
  },
  {
   "cell_type": "code",
   "execution_count": 30,
   "metadata": {},
   "outputs": [
    {
     "data": {
      "text/plain": [
       "0.5"
      ]
     },
     "execution_count": 30,
     "metadata": {},
     "output_type": "execute_result"
    }
   ],
   "source": [
    "y_train_smote.count(1)/len(y_train_smote)"
   ]
  },
  {
   "cell_type": "markdown",
   "metadata": {},
   "source": [
    "## 4.7 Train KNN (SMOTE) using hyperparameter tuning   <a name=\"4-7\"></a>"
   ]
  },
  {
   "cell_type": "markdown",
   "metadata": {},
   "source": [
    "Now let’s go through the same process as previously, but this time using the balanced dataset we have just created. Run the code below to train KNN."
   ]
  },
  {
   "cell_type": "code",
   "execution_count": 31,
   "metadata": {},
   "outputs": [
    {
     "name": "stdout",
     "output_type": "stream",
     "text": [
      "Best p: 2\n",
      "Best n_neighbors: 1\n"
     ]
    }
   ],
   "source": [
    "knn.fit(X_train_smote, y_train_smote) \n",
    "\n",
    "print('Best p:', knn.best_estimator_.get_params()['p']) \n",
    "\n",
    "print('Best n_neighbors:', knn.best_estimator_.get_params()['n_neighbors']) "
   ]
  },
  {
   "cell_type": "markdown",
   "metadata": {},
   "source": [
    "## 4.8 KNN (SMOTE) classifier evaluation   <a name=\"4-8\"></a>"
   ]
  },
  {
   "cell_type": "markdown",
   "metadata": {},
   "source": [
    "Now get the predicted labels from the balanced test set. Run the code below."
   ]
  },
  {
   "cell_type": "code",
   "execution_count": 32,
   "metadata": {
    "collapsed": true
   },
   "outputs": [],
   "source": [
    "y_predicted = knn.predict(X_test) "
   ]
  },
  {
   "cell_type": "markdown",
   "metadata": {},
   "source": [
    "**Confusion matrix**"
   ]
  },
  {
   "cell_type": "code",
   "execution_count": 33,
   "metadata": {},
   "outputs": [
    {
     "data": {
      "text/plain": [
       "<sklearn.metrics._plot.confusion_matrix.ConfusionMatrixDisplay at 0x7f993d50a750>"
      ]
     },
     "execution_count": 33,
     "metadata": {},
     "output_type": "execute_result"
    },
    {
     "data": {
      "image/png": "[encoded data removed]",
      "text/plain": [
       "<Figure size 432x288 with 2 Axes>"
      ]
     },
     "metadata": {
      "needs_background": "light"
     },
     "output_type": "display_data"
    }
   ],
   "source": [
    "cm = confusion_matrix(y_test, y_predicted, labels=knn.classes_) \n",
    "\n",
    "disp = ConfusionMatrixDisplay(confusion_matrix=cm, display_labels=knn.classes_) \n",
    "\n",
    "disp.plot() "
   ]
  },
  {
   "cell_type": "markdown",
   "metadata": {},
   "source": [
    "**Accuracy** "
   ]
  },
  {
   "cell_type": "code",
   "execution_count": 34,
   "metadata": {},
   "outputs": [
    {
     "name": "stdout",
     "output_type": "stream",
     "text": [
      "0.8635761589403973\n"
     ]
    }
   ],
   "source": [
    "results.loc['knn_SMOTE','accuracy']=accuracy_score(y_test,y_predicted) \n",
    "\n",
    "print(results.loc['knn_SMOTE','accuracy']) "
   ]
  },
  {
   "cell_type": "markdown",
   "metadata": {},
   "source": [
    "**Balanced accuracy**"
   ]
  },
  {
   "cell_type": "code",
   "execution_count": 35,
   "metadata": {},
   "outputs": [
    {
     "name": "stdout",
     "output_type": "stream",
     "text": [
      "0.9299319727891157\n"
     ]
    }
   ],
   "source": [
    "results.loc['knn_SMOTE','balanced_accuracy']=balanced_accuracy_score(y_test,y_predicted) \n",
    "\n",
    "print(results.loc['knn_SMOTE','balanced_accuracy']) "
   ]
  },
  {
   "cell_type": "markdown",
   "metadata": {},
   "source": [
    "**Training time (in seconds)**"
   ]
  },
  {
   "cell_type": "code",
   "execution_count": 36,
   "metadata": {},
   "outputs": [
    {
     "name": "stdout",
     "output_type": "stream",
     "text": [
      "0.004109539985656737\n"
     ]
    }
   ],
   "source": [
    "results.loc['knn_SMOTE','training_time']=knn.cv_results_['mean_fit_time'].mean() \n",
    "\n",
    "print(results.loc['knn_SMOTE','training_time']) "
   ]
  },
  {
   "cell_type": "markdown",
   "metadata": {},
   "source": [
    "**Prediction time (in seconds) per email**"
   ]
  },
  {
   "cell_type": "code",
   "execution_count": 37,
   "metadata": {},
   "outputs": [
    {
     "name": "stdout",
     "output_type": "stream",
     "text": [
      "0.0008923847627955558\n"
     ]
    }
   ],
   "source": [
    "results.loc['knn_SMOTE','prediction_time']=knn.cv_results_['mean_score_time'].mean()/len(y_test) \n",
    "\n",
    "print(results.loc['knn_SMOTE','prediction_time']) "
   ]
  },
  {
   "cell_type": "markdown",
   "metadata": {},
   "source": [
    "# 5 Decision Tree and Hyperparameter Tuning  <a name=\"5-Decision\"></a>"
   ]
  },
  {
   "cell_type": "markdown",
   "metadata": {},
   "source": [
    "We will now move on from KNN and look at the same process for Decision Tree. First run the code below to define the Decision Tree classifier. "
   ]
  },
  {
   "cell_type": "code",
   "execution_count": 38,
   "metadata": {
    "collapsed": true
   },
   "outputs": [],
   "source": [
    "dt = DecisionTreeClassifier() "
   ]
  },
  {
   "cell_type": "markdown",
   "metadata": {},
   "source": [
    "## 5.1 Apply grid search to Decision Tree  <a name=\"5-1\"></a>"
   ]
  },
  {
   "cell_type": "markdown",
   "metadata": {},
   "source": [
    "We first define the dictionary of hyperparameters (minimum samples for a node split, minimum samples for a leaf and maximum depth of tree) to be evaluated using grid search. In the following steps, we will find the best parameters among the parameters of this dictionary. "
   ]
  },
  {
   "cell_type": "code",
   "execution_count": 39,
   "metadata": {
    "collapsed": true
   },
   "outputs": [],
   "source": [
    "hyperparameters = { \n",
    "\n",
    "    'min_samples_split': [2,3,5], \n",
    "\n",
    "    'min_samples_leaf': [5, 10, 20, 50, 100], \n",
    "\n",
    "    'max_depth': [2, 3, 5, 10, 20] \n",
    "\n",
    "} "
   ]
  },
  {
   "cell_type": "markdown",
   "metadata": {},
   "source": [
    "We’ll now use grid search to determine the best parameters according to the metric \"accuracy\". Run the code below to add the grid search technique to the classifier `dt`. "
   ]
  },
  {
   "cell_type": "code",
   "execution_count": 40,
   "metadata": {
    "collapsed": true
   },
   "outputs": [],
   "source": [
    "dt = GridSearchCV(dt, hyperparameters, scoring='accuracy') "
   ]
  },
  {
   "cell_type": "markdown",
   "metadata": {},
   "source": [
    "## 5.2 Train and evaluate the Decision Tree classifier   <a name=\"5-2\"></a>"
   ]
  },
  {
   "cell_type": "markdown",
   "metadata": {},
   "source": [
    "Run the code below to train the Decision Tree classifier using hyperparameter tuning. "
   ]
  },
  {
   "cell_type": "code",
   "execution_count": 41,
   "metadata": {},
   "outputs": [
    {
     "name": "stdout",
     "output_type": "stream",
     "text": [
      "Best max_depth: 5\n",
      "Best min_samples_leaf: 5\n",
      "Best criterion: gini\n"
     ]
    }
   ],
   "source": [
    "dt.fit(X_train, y_train) \n",
    "\n",
    "print('Best max_depth:', dt.best_estimator_.get_params()['max_depth']) \n",
    "\n",
    "print('Best min_samples_leaf:', dt.best_estimator_.get_params()['min_samples_leaf']) \n",
    "\n",
    "print('Best criterion:', dt.best_estimator_.get_params()['criterion']) "
   ]
  },
  {
   "cell_type": "markdown",
   "metadata": {},
   "source": [
    "## 5.3 Decision Tree classifier evaluation  <a name=\"5-3\"></a>"
   ]
  },
  {
   "cell_type": "markdown",
   "metadata": {},
   "source": [
    "To get the predicted labels from the test set, run the code below. "
   ]
  },
  {
   "cell_type": "code",
   "execution_count": 42,
   "metadata": {
    "collapsed": true
   },
   "outputs": [],
   "source": [
    "y_predicted = dt.predict(X_test)"
   ]
  },
  {
   "cell_type": "markdown",
   "metadata": {},
   "source": [
    "## 5.4 Metrics for evaluation of Decision Tree   <a name=\"5-4\"></a>"
   ]
  },
  {
   "cell_type": "markdown",
   "metadata": {},
   "source": [
    "Run the code below to produce different metrics for later comparison."
   ]
  },
  {
   "cell_type": "markdown",
   "metadata": {},
   "source": [
    "**Confusion matrix**"
   ]
  },
  {
   "cell_type": "code",
   "execution_count": 43,
   "metadata": {},
   "outputs": [
    {
     "data": {
      "text/plain": [
       "<sklearn.metrics._plot.confusion_matrix.ConfusionMatrixDisplay at 0x7f993cafe390>"
      ]
     },
     "execution_count": 43,
     "metadata": {},
     "output_type": "execute_result"
    },
    {
     "data": {
      "image/png": "[encoded data removed]",
      "text/plain": [
       "<Figure size 432x288 with 2 Axes>"
      ]
     },
     "metadata": {
      "needs_background": "light"
     },
     "output_type": "display_data"
    }
   ],
   "source": [
    "cm = confusion_matrix(y_test, y_predicted, labels=dt.classes_) \n",
    "\n",
    "disp = ConfusionMatrixDisplay(confusion_matrix=cm, display_labels=dt.classes_) \n",
    "\n",
    "disp.plot() "
   ]
  },
  {
   "cell_type": "markdown",
   "metadata": {},
   "source": [
    "**Accuracy** "
   ]
  },
  {
   "cell_type": "code",
   "execution_count": 44,
   "metadata": {},
   "outputs": [
    {
     "name": "stdout",
     "output_type": "stream",
     "text": [
      "0.9814569536423841\n"
     ]
    }
   ],
   "source": [
    "results.loc['dt','accuracy']=accuracy_score(y_test,y_predicted) \n",
    "\n",
    "print(results.loc['dt','accuracy']) "
   ]
  },
  {
   "cell_type": "markdown",
   "metadata": {},
   "source": [
    "**Balanced accuracy**"
   ]
  },
  {
   "cell_type": "code",
   "execution_count": 45,
   "metadata": {},
   "outputs": [
    {
     "name": "stdout",
     "output_type": "stream",
     "text": [
      "0.6743197278911565\n"
     ]
    }
   ],
   "source": [
    "results.loc['dt','balanced_accuracy']=balanced_accuracy_score(y_test,y_predicted) \n",
    "\n",
    "print(results.loc['dt','balanced_accuracy']) "
   ]
  },
  {
   "cell_type": "markdown",
   "metadata": {},
   "source": [
    "**Training time (in seconds)**"
   ]
  },
  {
   "cell_type": "code",
   "execution_count": 46,
   "metadata": {},
   "outputs": [
    {
     "name": "stdout",
     "output_type": "stream",
     "text": [
      "0.05701817067464193\n"
     ]
    }
   ],
   "source": [
    "results.loc['dt','training_time']=dt.cv_results_['mean_fit_time'].mean() \n",
    "\n",
    "print(results.loc['dt','training_time']) "
   ]
  },
  {
   "cell_type": "markdown",
   "metadata": {},
   "source": [
    "**Prediction time (in seconds) per email**"
   ]
  },
  {
   "cell_type": "code",
   "execution_count": 47,
   "metadata": {},
   "outputs": [
    {
     "name": "stdout",
     "output_type": "stream",
     "text": [
      "2.871038003209937e-06\n"
     ]
    }
   ],
   "source": [
    "results.loc['dt','prediction_time']=dt.cv_results_['mean_score_time'].mean()/len(y_test) \n",
    "\n",
    "print(results.loc['dt','prediction_time']) "
   ]
  },
  {
   "cell_type": "markdown",
   "metadata": {},
   "source": [
    "## 5.5 Train and evaluate Decision Tree using SMOTE    <a name=\"5-5\"></a>"
   ]
  },
  {
   "cell_type": "markdown",
   "metadata": {},
   "source": [
    "As we earlier trained KNN using SMOTE, let’s now train the Decision Tree using SMOTE and the balanced training set (X_train_smote, y_train_smote). Run the code below to train the Decision Tree classifier.  "
   ]
  },
  {
   "cell_type": "code",
   "execution_count": 48,
   "metadata": {},
   "outputs": [
    {
     "name": "stdout",
     "output_type": "stream",
     "text": [
      "Best max_depth: 20\n",
      "Best min_samples_leaf: 5\n",
      "Best criterion: gini\n"
     ]
    }
   ],
   "source": [
    "dt.fit(X_train_smote, y_train_smote) \n",
    "\n",
    "print('Best max_depth:', dt.best_estimator_.get_params()['max_depth']) \n",
    "\n",
    "print('Best min_samples_leaf:', dt.best_estimator_.get_params()['min_samples_leaf']) \n",
    "\n",
    "print('Best criterion:', dt.best_estimator_.get_params()['criterion']) "
   ]
  },
  {
   "cell_type": "markdown",
   "metadata": {},
   "source": [
    "## 5.6 Decision Tree (SMOTE) classifier evaluation    <a name=\"5-6\"></a>"
   ]
  },
  {
   "cell_type": "markdown",
   "metadata": {},
   "source": [
    "Now get the predicted labels from the balanced test set. Run the code below. "
   ]
  },
  {
   "cell_type": "code",
   "execution_count": 49,
   "metadata": {
    "collapsed": true
   },
   "outputs": [],
   "source": [
    "y_predicted = dt.predict(X_test) "
   ]
  },
  {
   "cell_type": "markdown",
   "metadata": {},
   "source": [
    "## 5.7 Metrics for evaluation of Decision Tree (SMOTE)    <a name=\"5-7\"></a>"
   ]
  },
  {
   "cell_type": "markdown",
   "metadata": {},
   "source": [
    "**Confusion matrix**"
   ]
  },
  {
   "cell_type": "code",
   "execution_count": 50,
   "metadata": {},
   "outputs": [
    {
     "data": {
      "text/plain": [
       "<sklearn.metrics._plot.confusion_matrix.ConfusionMatrixDisplay at 0x7f993ca69990>"
      ]
     },
     "execution_count": 50,
     "metadata": {},
     "output_type": "execute_result"
    },
    {
     "data": {
      "image/png": "[encoded data removed]",
      "text/plain": [
       "<Figure size 432x288 with 2 Axes>"
      ]
     },
     "metadata": {
      "needs_background": "light"
     },
     "output_type": "display_data"
    }
   ],
   "source": [
    "cm = confusion_matrix(y_test, y_predicted, labels=dt.classes_) \n",
    "\n",
    "disp = ConfusionMatrixDisplay(confusion_matrix=cm, display_labels=dt.classes_) \n",
    "\n",
    "disp.plot() "
   ]
  },
  {
   "cell_type": "markdown",
   "metadata": {},
   "source": [
    "**Accuracy** "
   ]
  },
  {
   "cell_type": "code",
   "execution_count": 51,
   "metadata": {},
   "outputs": [
    {
     "name": "stdout",
     "output_type": "stream",
     "text": [
      "0.952317880794702\n"
     ]
    }
   ],
   "source": [
    "results.loc['dt_SMOTE','accuracy']=accuracy_score(y_test,y_predicted) \n",
    "\n",
    "print(results.loc['dt_SMOTE','accuracy']) "
   ]
  },
  {
   "cell_type": "markdown",
   "metadata": {},
   "source": [
    "**Balanced accuracy**"
   ]
  },
  {
   "cell_type": "code",
   "execution_count": 52,
   "metadata": {},
   "outputs": [
    {
     "name": "stdout",
     "output_type": "stream",
     "text": [
      "0.8295918367346938\n"
     ]
    }
   ],
   "source": [
    "results.loc['dt_SMOTE','balanced_accuracy']=balanced_accuracy_score(y_test,y_predicted) \n",
    "\n",
    "print(results.loc['dt_SMOTE','balanced_accuracy']) "
   ]
  },
  {
   "cell_type": "markdown",
   "metadata": {},
   "source": [
    "**Training time (in seconds)**"
   ]
  },
  {
   "cell_type": "code",
   "execution_count": 53,
   "metadata": {},
   "outputs": [
    {
     "name": "stdout",
     "output_type": "stream",
     "text": [
      "0.06482311566670734\n"
     ]
    }
   ],
   "source": [
    "results.loc['dt_SMOTE','training_time']=dt.cv_results_['mean_fit_time'].mean() \n",
    "\n",
    "print(results.loc['dt_SMOTE','training_time']) "
   ]
  },
  {
   "cell_type": "markdown",
   "metadata": {},
   "source": [
    "**Prediction time (in seconds) per email**"
   ]
  },
  {
   "cell_type": "code",
   "execution_count": 54,
   "metadata": {},
   "outputs": [
    {
     "name": "stdout",
     "output_type": "stream",
     "text": [
      "4.41248474794771e-06\n"
     ]
    }
   ],
   "source": [
    "results.loc['dt_SMOTE','prediction_time']=dt.cv_results_['mean_score_time'].mean()/len(y_test) \n",
    "\n",
    "print(results.loc['dt_SMOTE','prediction_time']) "
   ]
  },
  {
   "cell_type": "markdown",
   "metadata": {},
   "source": [
    "# 6 Results of the implemented classifiers   <a name=\"6-Results\"></a>"
   ]
  },
  {
   "cell_type": "markdown",
   "metadata": {},
   "source": [
    "Finally, let’s see the results of the four implemented classifiers: KNN, decision trees and both classifiers using SMOTE to balance the dataset. To show the dataframe with the results of these four classifiers using the metrics (accuracy, balanced accuracy, training time and prediction time), run the code below. "
   ]
  },
  {
   "cell_type": "code",
   "execution_count": 55,
   "metadata": {},
   "outputs": [
    {
     "data": {
      "text/html": [
       "<div>\n",
       "<style scoped>\n",
       "    .dataframe tbody tr th:only-of-type {\n",
       "        vertical-align: middle;\n",
       "    }\n",
       "\n",
       "    .dataframe tbody tr th {\n",
       "        vertical-align: top;\n",
       "    }\n",
       "\n",
       "    .dataframe thead th {\n",
       "        text-align: right;\n",
       "    }\n",
       "</style>\n",
       "<table border=\"1\" class=\"dataframe\">\n",
       "  <thead>\n",
       "    <tr style=\"text-align: right;\">\n",
       "      <th></th>\n",
       "      <th>accuracy</th>\n",
       "      <th>balanced_accuracy</th>\n",
       "      <th>training_time</th>\n",
       "      <th>prediction_time</th>\n",
       "    </tr>\n",
       "  </thead>\n",
       "  <tbody>\n",
       "    <tr>\n",
       "      <th>knn</th>\n",
       "      <td>0.972185</td>\n",
       "      <td>0.669558</td>\n",
       "      <td>0.002389</td>\n",
       "      <td>0.000202</td>\n",
       "    </tr>\n",
       "    <tr>\n",
       "      <th>knn_SMOTE</th>\n",
       "      <td>0.863576</td>\n",
       "      <td>0.929932</td>\n",
       "      <td>0.004110</td>\n",
       "      <td>0.000892</td>\n",
       "    </tr>\n",
       "    <tr>\n",
       "      <th>dt</th>\n",
       "      <td>0.981457</td>\n",
       "      <td>0.674320</td>\n",
       "      <td>0.057018</td>\n",
       "      <td>0.000003</td>\n",
       "    </tr>\n",
       "    <tr>\n",
       "      <th>dt_SMOTE</th>\n",
       "      <td>0.952318</td>\n",
       "      <td>0.829592</td>\n",
       "      <td>0.064823</td>\n",
       "      <td>0.000004</td>\n",
       "    </tr>\n",
       "  </tbody>\n",
       "</table>\n",
       "</div>"
      ],
      "text/plain": [
       "           accuracy  balanced_accuracy  training_time  prediction_time\n",
       "knn        0.972185           0.669558       0.002389         0.000202\n",
       "knn_SMOTE  0.863576           0.929932       0.004110         0.000892\n",
       "dt         0.981457           0.674320       0.057018         0.000003\n",
       "dt_SMOTE   0.952318           0.829592       0.064823         0.000004"
      ]
     },
     "execution_count": 55,
     "metadata": {},
     "output_type": "execute_result"
    }
   ],
   "source": [
    "results "
   ]
  },
  {
   "cell_type": "markdown",
   "metadata": {},
   "source": [
    "Let’s create a series of figures to display the metrics for the four classifiers. For now, we will just generate the values – we will consider how they compare in the next page in Canvas."
   ]
  },
  {
   "cell_type": "markdown",
   "metadata": {},
   "source": [
    "**Accuracy and balanced accuracy**"
   ]
  },
  {
   "cell_type": "code",
   "execution_count": 56,
   "metadata": {},
   "outputs": [
    {
     "data": {
      "text/plain": [
       "<AxesSubplot:>"
      ]
     },
     "execution_count": 56,
     "metadata": {},
     "output_type": "execute_result"
    },
    {
     "data": {
      "image/png": "[encoded data removed]",
      "text/plain": [
       "<Figure size 432x288 with 1 Axes>"
      ]
     },
     "metadata": {
      "needs_background": "light"
     },
     "output_type": "display_data"
    }
   ],
   "source": [
    "results[['accuracy','balanced_accuracy']].plot(kind=\"bar\") "
   ]
  },
  {
   "cell_type": "markdown",
   "metadata": {},
   "source": [
    "**Training time (in seconds)**"
   ]
  },
  {
   "cell_type": "code",
   "execution_count": 57,
   "metadata": {},
   "outputs": [
    {
     "data": {
      "text/plain": [
       "<AxesSubplot:>"
      ]
     },
     "execution_count": 57,
     "metadata": {},
     "output_type": "execute_result"
    },
    {
     "data": {
      "image/png": "[encoded data removed]",
      "text/plain": [
       "<Figure size 432x288 with 1 Axes>"
      ]
     },
     "metadata": {
      "needs_background": "light"
     },
     "output_type": "display_data"
    }
   ],
   "source": [
    "results['training_time'].plot(kind=\"bar\") "
   ]
  },
  {
   "cell_type": "markdown",
   "metadata": {},
   "source": [
    "**Prediction time (in seconds) per email**"
   ]
  },
  {
   "cell_type": "code",
   "execution_count": 58,
   "metadata": {},
   "outputs": [
    {
     "data": {
      "text/plain": [
       "<AxesSubplot:>"
      ]
     },
     "execution_count": 58,
     "metadata": {},
     "output_type": "execute_result"
    },
    {
     "data": {
      "image/png": "[encoded data removed]",
      "text/plain": [
       "<Figure size 432x288 with 1 Axes>"
      ]
     },
     "metadata": {
      "needs_background": "light"
     },
     "output_type": "display_data"
    }
   ],
   "source": [
    "results['prediction_time'].plot(kind=\"bar\") "
   ]
  },
  {
   "cell_type": "markdown",
   "metadata": {},
   "source": [
    "<div class=\"warning\" style='padding:0.1em; background-color:#e6ffff'>\n",
    "<span>\n",
    "<p style='margin:1em;'>\n",
    "<b>Congratulations!</b></p>\n",
    "<p style='margin:1em;'>\n",
    "You’ve now completed the modelling of the Enron dataset using a range of classification approaches. This will help you to tackle greater complexity in your data analysis, as well as model data that is qualitative rather than quantitative. These skills are important to your work in Assessment 3. To revise this activity, return to the Canvas page and read over the content under “What you’ll learn”.\n",
    "</p>\n",
    "<p style='margin-bottom:1em; margin-right:1em; text-align:right; font-family:Georgia'>\n",
    "</p></span>\n",
    "</div>"
   ]
  }
 ],
 "metadata": {
  "kernelspec": {
   "display_name": "Python 3 [3.7]",
   "language": "python",
   "name": "python3"
  },
  "language_info": {
   "codemirror_mode": {
    "name": "ipython",
    "version": 3
   },
   "file_extension": ".py",
   "mimetype": "text/x-python",
   "name": "python",
   "nbconvert_exporter": "python",
   "pygments_lexer": "ipython3",
   "version": "3.7.5"
  }
 },
 "nbformat": 4,
 "nbformat_minor": 5
}
